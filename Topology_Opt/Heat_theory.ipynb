{
 "metadata": {
  "language_info": {
   "codemirror_mode": {
    "name": "ipython",
    "version": 3
   },
   "file_extension": ".py",
   "mimetype": "text/x-python",
   "name": "python",
   "nbconvert_exporter": "python",
   "pygments_lexer": "ipython3",
   "version": 3
  },
  "orig_nbformat": 2
 },
 "nbformat": 4,
 "nbformat_minor": 2,
 "cells": [
  {
   "source": [
    "# Heat Sink Problem\n",
    "## Primal equation\n",
    "Let $T$ be the temperature field $T_{env}$ be the surrounding temperature, $k$ is thermal conductivity, $h$ is the heat transfer coefficient and $q$ is the rate of heat flux being supplied to the heat sink. \n",
    "$$ -\\nabla \\cdot (k\\nabla T) = 0 \\text{ on } \\Omega $$\n",
    "$$-k \\frac{\\partial T}{\\partial n} = h(T-T_{env}) \\text{    on    } \\partial_0 \\Omega $$\n",
    "$$-k \\frac{\\partial T}{\\partial n} = -q \\text{    on    } \\partial_1 \\Omega $$"
   ],
   "cell_type": "markdown",
   "metadata": {}
  },
  {
   "source": [
    "## Weak form\n",
    "Consider test function to be v\n",
    "$$ \\int_\\Omega k\\nabla T \\cdot \\nabla v  - \\int_{\\partial_1 \\Omega} qv + \\int_{\\partial_0 \\Omega} h(T-T_{env})v = 0$$\n",
    "\n",
    "## Lagrangian\n",
    "We have Lagrangian = Objective function + Weak form  \n",
    "Let objective function be $$J(k) = \\int_\\Omega j(T) + \\int_{\\partial \\Omega} i(T)$$\n",
    "Thinking of having objective function as mean temperature on the domain.\n",
    "$$j(T) = \\frac{T}{|\\Omega|} \\text{ and } i(T)=0$$\n",
    "Or more appropriately, we can have heat flux through the surface maximized. Keeping the objective function as\n",
    "$$ i(T) = h(T-T_{env}) \\text{ and } j(T)=0 $$\n",
    "Hence the Lagrangian becomes (with $p$ as the test function)\n",
    "$$L(T,p,k) = \\int_\\Omega j(T) + \\int_{\\partial \\Omega} i(T) + \\int_\\Omega k\\nabla T \\cdot \\nabla p  - \\int_{\\partial_1 \\Omega} q p + \\int_{\\partial_0 \\Omega} h(T-T_{env})p$$"
   ],
   "cell_type": "markdown",
   "metadata": {}
  },
  {
   "source": [
    "## Adjoint equation\n",
    "We get the primal equation by doing $\\frac{\\delta L}{\\delta p}=0$. Similarly we get adjoint equation by doing $\\frac{\\delta L}{\\delta T}=0$. Hence we have the adjoint equation as \n",
    "$$-\\nabla \\cdot (k\\nabla p) = -j'(T) \\text{ on } \\Omega$$\n",
    "$$ -k \\frac{\\partial p}{\\partial n}=i'(T) \\text{ on } \\partial_1 \\Omega $$\n",
    "$$ -k \\frac{\\partial p}{\\partial n}=hp+i'(T) \\text{ on } \\partial_0 \\Omega $$\n",
    "whose weak form with test function $v$ is\n",
    "$$ \\int_\\Omega k \\nabla p \\cdot \\nabla v + \\int_{\\partial_0 \\Omega}hpv = - \\int_\\Omega j'(T)v - \\int_{\\partial \\Omega} i'(T)v $$"
   ],
   "cell_type": "markdown",
   "metadata": {}
  },
  {
   "source": [
    "## Derivative of Objective Function wrt k\n",
    "$$\\frac{\\delta L}{\\delta k}=\\frac{\\delta J}{\\delta k}=\\nabla T \\cdot \\nabla p$$\n",
    "where $T$ and $p$ satisfy primal and adjoint equations respectively."
   ],
   "cell_type": "markdown",
   "metadata": {}
  },
  {
   "source": [
    "## Mollifier approximation\n",
    "Let $\\eta$ be the characteristic function and \n",
    "$$k(\\eta) = \\zeta(\\eta) k_m + (1-\\zeta(\\eta))k_a = \\zeta(\\eta)(k_m-k_a) + k_a$$ \n",
    "where $k_m$ and $k_a$ are thermal conductivities of metal and air respectively. So instead of $J(k)$ we have $J(\\eta)$ and the derivative of objective function with respect to characteristic function $\\eta$ is given as\n",
    "$$\\frac{\\delta J}{\\delta \\eta}=\\frac{\\delta L}{\\delta \\eta}=\\zeta '(\\eta) (k_m-k_a)\\nabla T \\cdot \\nabla p$$"
   ],
   "cell_type": "markdown",
   "metadata": {}
  },
  {
   "source": [
    "# Topology Optimization Procedure\n",
    "1. Determine/assume volume fraction $\\eta_{frac}$ of the initial material you want to have. Note: smaller value implies slower convergence.\n",
    "2. Compute temperature field $T$ for the assumed $\\eta_0$. Also the adjoint variable.\n",
    "3. Calculate derivative of objective function $\\frac{\\delta J}{\\delta \\eta}$ at the calculated $T$ and $p$.\n",
    "4. Change $\\eta$ according to gradient descent method.\n",
    "5. Use volume constraint by bijection algorithm i.e. find $l$ such that $\\int_\\Omega max(\\eta_{min}, min(\\eta_{max}, \\eta + l)) = \\eta_{frac}$, where $\\eta_{min}=0$ and $\\eta_{max}=1$. And substitute $\\eta = max(\\eta_{min}, min(\\eta_{max}, \\eta + l)) $.\n",
    "6. Regularize $\\eta$. \n",
    "7. Calculate and print objective function $J(\\eta)=\\int_\\Omega j(T)$.\n",
    "8. Plot $\\eta$.\n",
    "9. Doubt --> how to change boundary? Guess --> define new mesh as set of all points on the old mesh where $\\eta>0.5$ (say). Then repeat steps 2 to 8 till it converges."
   ],
   "cell_type": "markdown",
   "metadata": {}
  }
 ]
}